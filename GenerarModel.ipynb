{
 "cells": [
  {
   "cell_type": "code",
   "execution_count": 2,
   "id": "98941933",
   "metadata": {},
   "outputs": [],
   "source": [
    "import redis\n",
    "import json\n",
    "import csv\n",
    "\n",
    "\n",
    "r = redis.Redis(host='localhost', port=6379, db=0)\n",
    "rtList = r.lrange(\"rtList\", 0, 86400);\n",
    "\n",
    "rtList.reverse()\n",
    "\n",
    "#channel_3.dat oven\n",
    "#channel_4.dat refrigerator\n",
    "#channel_5.dat dishwaser\n",
    "#channel_6.dat washer_dryer\n",
    "#channel_7.dat microwave\n",
    "#channel_8.dat electric_heat\n",
    "#channel_9.dat stove\n",
    "\n",
    "with open('models/channel_4.dat', 'w', newline='') as file:\n",
    "    writer = csv.writer(file, delimiter=' ')\n",
    "    for i in rtList:\n",
    "        data = json.loads(i)\n",
    "        writer.writerow([data['epochTime'], round(data['kW']*1000,2)])\n",
    "    "
   ]
  },
  {
   "cell_type": "code",
   "execution_count": null,
   "id": "0c411b81",
   "metadata": {},
   "outputs": [],
   "source": []
  }
 ],
 "metadata": {
  "kernelspec": {
   "display_name": "Python 3 (ipykernel)",
   "language": "python",
   "name": "python3"
  },
  "language_info": {
   "codemirror_mode": {
    "name": "ipython",
    "version": 3
   },
   "file_extension": ".py",
   "mimetype": "text/x-python",
   "name": "python",
   "nbconvert_exporter": "python",
   "pygments_lexer": "ipython3",
   "version": "3.8.12"
  }
 },
 "nbformat": 4,
 "nbformat_minor": 5
}
